{
 "cells": [
  {
   "cell_type": "markdown",
   "metadata": {},
   "source": [
    "# 1. Linear model, predicting coin prices from BTC price "
   ]
  },
  {
   "cell_type": "markdown",
   "metadata": {},
   "source": [
    "## Imports\n",
    "\n",
    "Import pacakges"
   ]
  },
  {
   "cell_type": "code",
   "execution_count": 3,
   "metadata": {},
   "outputs": [],
   "source": [
    "\n",
    "import numpy as np\n",
    "import pandas as pd\n",
    "import matplotlib.pyplot as plt\n",
    "\n",
    "import sys\n",
    "# the mock-0.3.1 dir contains testcase.py, testutils.py & mock.py\n",
    "sys.path.append('../')\n",
    "\n",
    "import pystan\n",
    "import stan_utility"
   ]
  },
  {
   "cell_type": "markdown",
   "metadata": {},
   "source": [
    "## Data\n",
    "\n",
    "Initialize data"
   ]
  },
  {
   "cell_type": "code",
   "execution_count": 30,
   "metadata": {
    "scrolled": false
   },
   "outputs": [
    {
     "name": "stdout",
     "output_type": "stream",
     "text": [
      "         date  BTC price  LTC price  DASH price  ETH price  ETC price\n",
      "0  2016-07-24     655.41       4.06        9.36      14.30   0.752345\n",
      "1  2016-07-25     661.26       4.07        9.24      12.74   0.931993\n",
      "2  2016-07-26     654.23       4.04        9.15      13.82   0.604737\n",
      "3  2016-07-27     651.63       3.96        8.90      12.05   2.460000\n",
      "4  2016-07-28     654.49       3.97        9.15      12.98   1.560000\n"
     ]
    }
   ],
   "source": [
    "\n",
    "data = pd.read_csv('/home/jonatan/projects/school/BDA_Project/data/selected/combined.csv', delimiter=\",\")\n",
    "data.columns = ['date', 'LTC mCap', 'LTC price', 'LTC  exVol',\n",
    "       'LTC fees', 'LTC  txVol', 'ETH mCap',\n",
    "       'ETH price', 'ETH exVol', 'ETH fees',\n",
    "       'ETH txVol', 'ETC mCap', 'ETC price',\n",
    "       'ETC exVol', 'ETC fees', 'ETC txVol',\n",
    "       'DASH mCap', 'DASH price', 'DASH exVol',\n",
    "       'DASH fees', 'DASH txVol', 'BTC mCap',\n",
    "       'BTC price', 'BTC exVol', 'BTC fees',\n",
    "       'BTC txVol']\n",
    "data=data[['date', 'BTC price','LTC price','DASH price','ETH price','ETC price']]\n",
    "\n",
    "print(data.head(5))\n",
    "data.drop(columns=['date'], inplace=True)\n",
    "data = (data - data.mean()) / (data.max() - data.min())"
   ]
  },
  {
   "cell_type": "code",
   "execution_count": 31,
   "metadata": {},
   "outputs": [
    {
     "name": "stdout",
     "output_type": "stream",
     "text": [
      "[-0.2302735  0.0197265  0.2697265  0.5197265  0.7697265]\n"
     ]
    }
   ],
   "source": [
    "n = data.shape[0]\n",
    "m = 5\n",
    "x = data[['BTC price']].values.flatten()[0:n]\n",
    "y1 = data[['DASH price']].values.flatten()[0:n]\n",
    "y2 = data[['LTC price']].values.flatten()[0:n]\n",
    "y3 = data[['ETH price']].values.flatten()[0:n]\n",
    "y4 = data[['ETC price']].values.flatten()[0:n]\n",
    "p = np.linspace(data[['BTC price']].min(), data[['BTC price']].max(), m)\n",
    "print(p)"
   ]
  },
  {
   "cell_type": "markdown",
   "metadata": {},
   "source": [
    "## Read and display edited stan code\n"
   ]
  },
  {
   "cell_type": "code",
   "execution_count": 32,
   "metadata": {},
   "outputs": [
    {
     "name": "stdout",
     "output_type": "stream",
     "text": [
      "// Linear student-t model\n",
      "data {\n",
      "    int<lower=0> N; // number of data points\n",
      "    int<lower=0> M;\t// number of prediction points\n",
      "    vector[N] x; //\n",
      "    vector[N] y; //\n",
      "    vector[M] xpreds; // input location for prediction\n",
      "}\n",
      "parameters {\n",
      "    real alpha;\n",
      "    real beta;\n",
      "    real<lower=0> sigma;\n",
      "    real<lower=1, upper=80> nu;\n",
      "}\n",
      "transformed parameters {\n",
      "    vector[N] mu;\n",
      "    mu = alpha + beta*x;\n",
      "}\n",
      "model {\n",
      "    nu ~ gamma(2, 0.1); // Juarez and Steel(2010)\n",
      "    y ~ student_t(nu, mu, sigma);\n",
      "}\n",
      "generated quantities {\n",
      "    vector[M] ypreds;\n",
      "    vector[N] log_lik;\n",
      "    for(i in 1:M) {\n",
      "        ypreds[i] = normal_rng(alpha + beta*xpreds[i], sigma);\n",
      "    }\n",
      "    for (i in 1:N){\n",
      "        log_lik[i] = student_t_lpdf(y[i] | nu, mu[i], sigma);\n",
      "    }\n",
      "}\n",
      "\n"
     ]
    }
   ],
   "source": [
    "with open('lin_t.stan') as file:\n",
    "    print(file.read())"
   ]
  },
  {
   "cell_type": "markdown",
   "metadata": {},
   "source": [
    "## Generate model"
   ]
  },
  {
   "cell_type": "code",
   "execution_count": 33,
   "metadata": {},
   "outputs": [
    {
     "name": "stdout",
     "output_type": "stream",
     "text": [
      "Using cached StanModel\n"
     ]
    }
   ],
   "source": [
    "model = stan_utility.compile_model('lin_t.stan')"
   ]
  },
  {
   "cell_type": "markdown",
   "metadata": {},
   "source": [
    "## Set model data"
   ]
  },
  {
   "cell_type": "code",
   "execution_count": 34,
   "metadata": {},
   "outputs": [],
   "source": [
    "data1 = dict(N=n,M=m,x=x,y=y1,xpreds=p)\n",
    "fit1 = model.sampling(data=data1, seed=74749)\n",
    "samples1 = fit1.extract(permuted=True)\n",
    "\n",
    "data2 = dict(N=n,M=m,x=x,y=y2,xpreds=p)\n",
    "fit2 = model.sampling(data=data2, seed=74749)\n",
    "samples2 = fit2.extract(permuted=True)\n",
    "\n",
    "data3 = dict(N=n,M=m,x=x,y=y3,xpreds=p)\n",
    "fit3 = model.sampling(data=data3, seed=74749)\n",
    "samples3 = fit3.extract(permuted=True)\n",
    "\n",
    "data4 = dict(N=n,M=m,x=x,y=y4,xpreds=p)\n",
    "fit4 = model.sampling(data=data4, seed=74749)\n",
    "samples4 = fit4.extract(permuted=True)"
   ]
  },
  {
   "cell_type": "code",
   "execution_count": 35,
   "metadata": {
    "scrolled": true
   },
   "outputs": [
    {
     "data": {
      "image/png": "[encoded data removed]",
      "text/plain": [
       "<Figure size 1008x720 with 4 Axes>"
      ]
     },
     "metadata": {
      "needs_background": "light"
     },
     "output_type": "display_data"
    }
   ],
   "source": [
    "f, axes = plt.subplots(2, 2, figsize=(14,10), sharex=True)\n",
    "preds = samples1['ypreds'].T\n",
    "ax = axes[0,0]\n",
    "ax.scatter(data['BTC price'], data['DASH price'], label='Price DASH/BTC')\n",
    "ax.set_ylabel('DASH price')\n",
    "ax.set_xlabel('BTC price')\n",
    "for i in range(m):\n",
    "    ax.scatter([p[i]]*len(preds[i]),preds[i], alpha=0.01, c='g')\n",
    "    ax.scatter(p[i],np.mean(preds[i]), c='r')\n",
    "\n",
    "preds = samples2['ypreds'].T\n",
    "ax = axes[0,1]\n",
    "ax.scatter(data['BTC price'], data['LTC price'], label='Price LTC/BTC')\n",
    "ax.set_ylabel('LTC price')\n",
    "ax.set_xlabel('BTC price')\n",
    "for i in range(m):\n",
    "    ax.scatter([p[i]]*len(preds[i]),preds[i], alpha=0.01, c='g')\n",
    "    ax.scatter(p[i],np.mean(preds[i]), c='r')\n",
    "    \n",
    "preds = samples3['ypreds'].T\n",
    "ax = axes[1,0]\n",
    "ax.scatter(data['BTC price'], data['ETH price'], label='Price ETH/BTC')\n",
    "ax.set_ylabel('ETH price')\n",
    "ax.set_xlabel('BTC price')\n",
    "for i in range(m):\n",
    "    ax.scatter([p[i]]*len(preds[i]),preds[i], alpha=0.01, c='g')\n",
    "    ax.scatter(p[i],np.mean(preds[i]), c='r')\n",
    "    \n",
    "preds = samples4['ypreds'].T\n",
    "ax = axes[1,1]\n",
    "ax.scatter(data['BTC price'], data['ETC price'], label='Price ETC/BTC')\n",
    "ax.set_ylabel('ETC price')\n",
    "ax.set_xlabel('BTC price')\n",
    "for i in range(m):\n",
    "    ax.scatter([p[i]]*len(preds[i]),preds[i], alpha=0.01, c='g')\n",
    "    ax.scatter(p[i],np.mean(preds[i]), c='r')\n",
    "    \n",
    "plt.legend(loc='best')\n",
    "plt.show()"
   ]
  },
  {
   "cell_type": "markdown",
   "metadata": {},
   "source": [
    "## Plot ypred histogram"
   ]
  },
  {
   "cell_type": "code",
   "execution_count": 36,
   "metadata": {},
   "outputs": [],
   "source": [
    "# plot beat histogram\n",
    "#fig, ax = plt.subplots(1, 1, figsize=(10,8))\n",
    "\n",
    "# plot post pred histogram\n",
    "#ax.set_xlabel('ypred')\n",
    "#ax.set_ylabel('')\n",
    "#ax.set_yticks([])\n",
    "#ax.set_xticks(np.linspace(200, 1000, 10))\n",
    "#ax.grid(axis='x')\n",
    "#s = pd.Series(preds[5])\n",
    "#ax.hist(s, bins=50)\n",
    "#plt.show()\n"
   ]
  },
  {
   "cell_type": "code",
   "execution_count": 37,
   "metadata": {},
   "outputs": [],
   "source": [
    "from psis import psisloo"
   ]
  },
  {
   "cell_type": "code",
   "execution_count": 38,
   "metadata": {},
   "outputs": [
    {
     "name": "stdout",
     "output_type": "stream",
     "text": [
      "Loo: 1098.4969045792063\n"
     ]
    }
   ],
   "source": [
    "loglik = samples1['log_lik']\n",
    "loo1, loos, ks = psisloo(loglik)\n",
    "print(\"Loo: {}\".format(loo1))"
   ]
  },
  {
   "cell_type": "code",
   "execution_count": 39,
   "metadata": {},
   "outputs": [
    {
     "name": "stdout",
     "output_type": "stream",
     "text": [
      "[-0.18878646 -0.18433348 -0.18855589 -0.18752927 -0.1886505  -0.18922662\n",
      " -0.1886837  -0.18864086 -0.18825959 -0.18591504 -0.18598802 -0.1875845\n",
      " -0.18527478 -0.18781321 -0.18721342 -0.185867   -0.18568518 -0.18725045\n",
      " -0.18546726 -0.18591147 -0.18542848 -0.18612534 -0.17837906 -0.18026749\n",
      " -0.18620961 -0.1858133  -0.17825009 -0.17935953 -0.18619773 -0.18453997\n",
      " -0.17786196 -0.18498983 -0.18518407 -0.1854247  -0.18583509 -0.18551648\n",
      " -0.18652457 -0.18509591 -0.18583752 -0.18485974 -0.18591344 -0.18474881\n",
      " -0.18651138 -0.18649062 -0.18727812 -0.18565877 -0.18453237 -0.18430862\n",
      " -0.18537614 -0.18399528 -0.18570729 -0.18599363 -0.18310155 -0.18580131\n",
      " -0.18567328 -0.18546506 -0.18727232 -0.18756068 -0.18788589 -0.18567667\n",
      " -0.18649578 -0.18702303 -0.18613059 -0.18574883 -0.18727134 -0.18807283\n",
      " -0.18522717 -0.1852699  -0.18609673 -0.18628274 -0.18799479 -0.18686922\n",
      " -0.18630277 -0.18712793 -0.18694597 -0.18681894 -0.1879446  -0.18637247\n",
      " -0.18603032 -0.18599586 -0.18608427 -0.18565238 -0.18570212 -0.18451441\n",
      " -0.18513831 -0.18596124 -0.1857321  -0.18852614 -0.18556217 -0.18528282\n",
      " -0.18516815 -0.1867649  -0.18707471 -0.18638312 -0.18878785 -0.19037862\n",
      " -0.19124387 -0.18952634 -0.19256889 -0.18976292 -0.19423446 -0.19138411\n",
      " -0.18836668 -0.18996613 -0.19254554 -0.19326507 -0.19239099 -0.1886719\n",
      " -0.19309047 -0.18891349 -0.19254136 -0.19241947 -0.19192572 -0.19096345\n",
      " -0.1914837  -0.19377307 -0.19031928 -0.18953459 -0.19086633 -0.18900798\n",
      " -0.18907668 -0.19085952 -0.18759484 -0.18923919 -0.18909689 -0.1897735\n",
      " -0.18920643 -0.19221862 -0.18940346 -0.18977502 -0.19151017 -0.18917577\n",
      " -0.19465905 -0.19094859 -0.19280341 -0.1854906  -0.18629355 -0.19083285\n",
      " -0.19128397 -0.1921387  -0.19297093 -0.1885379  -0.1941856  -0.18896644\n",
      " -0.19271979 -0.1896662  -0.18864797 -0.19353781 -0.18931745 -0.18830861\n",
      " -0.19373592 -0.20332615 -0.20171665 -0.2012406  -0.21022947 -0.20658141\n",
      " -0.20668732 -0.19683765 -0.20489044 -0.19848992 -0.19637468 -0.19547499\n",
      " -0.20279675 -0.2063799  -0.20540153 -0.20685903 -0.20112238 -0.19712285\n",
      " -0.1980079  -0.19824245 -0.19814331 -0.19921881 -0.19276679 -0.18933064\n",
      " -0.18962809 -0.18937489 -0.18977022 -0.1877653  -0.20572249 -0.19979226\n",
      " -0.19380456 -0.18860917 -0.20274373 -0.20354892 -0.20281167 -0.20289495\n",
      " -0.20393864 -0.2033019  -0.20460603 -0.20324015 -0.20150208 -0.20190732\n",
      " -0.20118494 -0.20300698 -0.2099718  -0.20691346 -0.20889922 -0.20984154\n",
      " -0.20939686 -0.20413699 -0.20630051 -0.20095957 -0.19880462 -0.20005812\n",
      " -0.19941876 -0.19916602 -0.20409237 -0.20305807 -0.20274152 -0.20193514\n",
      " -0.19902472 -0.19807529 -0.20087419 -0.20946243 -0.20113022 -0.20142722\n",
      " -0.20004318 -0.20214754 -0.19848154 -0.19940927 -0.18894867 -0.18382091\n",
      " -0.18204309 -0.18295704 -0.18546016 -0.1878837  -0.18352603 -0.18621609\n",
      " -0.18359534 -0.18011177 -0.1827091  -0.22629992 -0.22417021 -0.21715019\n",
      " -0.24425002 -0.22176251 -0.22892762 -0.15957184 -0.1338772  -0.12580085\n",
      " -0.14729484 -0.19466766 -0.15360871 -0.14972524 -0.14205741 -0.1535018\n",
      " -0.15455322 -0.22524036 -0.21514724 -0.22608224 -0.23361137 -0.23539326\n",
      " -0.22361245 -0.1857092  -0.17591642 -0.21553758 -0.23343226 -0.17496871\n",
      " -0.17448633 -0.18724617 -0.17880732 -0.18438538 -0.18197183 -0.17978815\n",
      " -0.22619883 -0.21373503 -0.22971524 -0.23027469 -0.22647206 -0.21924599\n",
      " -0.21518068 -0.19934457 -0.19552676 -0.1935521  -0.18563638 -0.19420224\n",
      " -0.18371849 -0.18046872 -0.21591386 -0.21878437 -0.25099851 -0.24304338\n",
      " -0.22513723 -0.21074843 -0.22155526 -0.22559703 -0.2445156  -0.2487566\n",
      " -0.24390224 -0.20840243 -0.17523459 -0.17948611 -0.17715946 -0.18133514\n",
      " -0.1801322  -0.17923656 -0.17273462 -0.18209893 -0.17730823 -0.17975024\n",
      " -0.17684356 -0.18007774 -0.1762256  -0.17904198 -0.22489422 -0.22474965\n",
      " -0.17391379 -0.17392382 -0.17980988 -0.18139018 -0.17635724 -0.18620761\n",
      " -0.23014698 -0.21454077 -0.21521625 -0.21653506 -0.21446829 -0.17346375\n",
      " -0.17695916 -0.16845092 -0.17015153 -0.15946743 -0.17341745 -0.13194216\n",
      " -0.14262942 -0.12976697 -0.14969643 -0.14115392 -0.1433059  -0.12656952\n",
      " -0.14734192 -0.15520375 -0.14504999 -0.13251214 -0.13104179 -0.14345777\n",
      " -0.14488315 -0.13251309 -0.14540523 -0.14087447 -0.14395343 -0.14233951\n",
      " -0.13954875 -0.13850496 -0.14111896 -0.14162802 -0.13879983 -0.16047858\n",
      " -0.1588654  -0.153171   -0.15974294 -0.15388665 -0.14291918 -0.14913931\n",
      " -0.13124897 -0.14192954 -0.1514324  -0.16537287 -0.19753109 -0.1515879\n",
      " -0.15072876 -0.1538666  -0.13353937 -0.14641735 -0.14683729 -0.15076898\n",
      " -0.13879234 -0.14515053 -0.14723154 -0.14148379 -0.13331741 -0.13920189\n",
      " -0.16495509 -0.15506729 -0.13781027 -0.13155248 -0.13087405 -0.12946891\n",
      " -0.19019532 -0.21396903 -0.20773313 -0.16550699 -0.17268708 -0.17469236\n",
      " -0.22708559 -0.18477939 -0.17764102 -0.19327339 -0.18246619 -0.19808339\n",
      " -0.22609259 -0.2247272  -0.18441034 -0.19413835 -0.17824465 -0.18909132\n",
      " -0.19068628 -0.21555876 -0.21508058 -0.17491538 -0.22068033 -0.21941991\n",
      " -0.22867085 -0.22360449 -0.21079358 -0.19866775 -0.22846038 -0.23329673\n",
      " -0.21465285 -0.21421141 -0.22440135 -0.22111189 -0.21644158 -0.22079799\n",
      " -0.21155366 -0.21698533 -0.21121934 -0.20793343 -0.16019851 -0.20159024\n",
      " -0.21026779 -0.20697168 -0.21094227 -0.21418969 -0.22065311 -0.21188342\n",
      " -0.19389899 -0.20360648 -0.21920029 -0.22070223 -0.2183231  -0.21883156\n",
      " -0.22101488 -0.21212308 -0.21451379 -0.21413317 -0.20027371 -0.18916923\n",
      " -0.20792072 -0.20110416 -0.20175365 -0.20031777 -0.16973988 -0.13273229\n",
      " -0.13529083 -0.15523751 -0.20462827 -0.1725965  -0.1735079  -0.17814726\n",
      " -0.21662411 -0.19842491 -0.20345367 -0.20620769 -0.18986315 -0.15731618\n",
      " -0.15394136 -0.192661   -0.20459402 -0.18728053 -0.19265402 -0.1919642\n",
      " -0.1929019  -0.16181913 -0.16753499 -0.16402779 -0.16049774 -0.19242879\n",
      " -0.1761416  -0.19163081 -0.19308933 -0.18382313 -0.14139652 -0.1501625\n",
      " -0.14935344 -0.19142952 -0.17218867 -0.14351574 -0.23860589 -0.2385939\n",
      " -0.20616646 -0.15636372 -0.19837647 -0.22235514 -0.19327362 -0.23018168\n",
      " -0.22875328 -0.16728914 -0.18146397 -0.19435087 -0.13578443 -0.17289908\n",
      " -0.17995656 -0.20143386 -0.15348484 -0.0736422  -0.10028766 -0.1050576\n",
      " -0.13001199 -0.1405977  -0.15492635 -0.04823846 -0.15679475 -0.09796676\n",
      " -0.05073136 -0.10718764 -0.10005219 -0.06397942 -0.09766529 -0.11950383\n",
      "  0.0866911   0.00130398 -0.10590062 -0.09503914 -0.07367553  0.03609155\n",
      "  0.01440986 -0.06048036 -0.02631909 -0.07020437 -0.08419027 -0.08538318\n",
      " -0.0878654  -0.10019737 -0.10086772 -0.09868299 -0.09413886 -0.08916265\n",
      " -0.08569988 -0.09236438 -0.09304543 -0.07931724 -0.09124109 -0.07982911\n",
      " -0.08225794 -0.08827852 -0.0891334  -0.08908307 -0.07627325 -0.0862895\n",
      " -0.07658553 -0.09445817 -0.13383147 -0.09535506 -0.08985118 -0.08441487\n",
      " -0.06737359 -0.09840254 -0.12143929 -0.1167742  -0.11776796 -0.1052794\n",
      " -0.10334918 -0.12973039 -0.1069987  -0.12810258 -0.13964298 -0.14478721\n",
      " -0.17183085 -0.18158216 -0.15155687 -0.21457519 -0.24673747 -0.21463229\n",
      " -0.21477614 -0.14324181 -0.12751671 -0.12922676 -0.15959575 -0.1447099\n",
      " -0.16293364 -0.13164535 -0.1341565  -0.14542248 -0.13703123 -0.15053462\n",
      " -0.14197957 -0.18460399 -0.17445764 -0.17920563 -0.20472455 -0.2172903\n",
      " -0.21454505 -0.20048522 -0.17907794 -0.17067535 -0.16050829 -0.14903847\n",
      " -0.10355464 -0.13341975 -0.11878233 -0.12708964 -0.11808324 -0.11000552\n",
      " -0.1369329  -0.1783931  -0.17329942 -0.16732144 -0.1293593  -0.18105692\n",
      " -0.19964645 -0.18518675 -0.19341833 -0.13469535 -0.15055151 -0.15312527\n",
      " -0.16431254 -0.12983731 -0.16177283 -0.16955105 -0.16600901 -0.1537283\n",
      " -0.14115052 -0.14200907 -0.156914   -0.16136286 -0.15930652 -0.16447369\n",
      " -0.16499641 -0.14096527 -0.16998683 -0.17597877 -0.15488556 -0.16352066\n",
      " -0.16704592 -0.17354291 -0.17062218 -0.16559475 -0.1526539  -0.14544372\n",
      " -0.14418313 -0.12938707 -0.14939324 -0.13643541 -0.17323206 -0.1466893\n",
      " -0.12997402 -0.20109589 -0.13443196 -0.19326576 -0.15724837 -0.12296943\n",
      " -0.16064598 -0.12294461 -0.13096451 -0.1249462  -0.15353153 -0.11528961\n",
      " -0.1212441  -0.11719316 -0.18250988 -0.12959599 -0.1866092  -0.17021732\n",
      " -0.14784462 -0.11501423 -0.12648883 -0.13051754 -0.14315238 -0.15396714\n",
      " -0.19718014 -0.1992007  -0.19421727 -0.15867588 -0.1524569  -0.13573299\n",
      " -0.13120667 -0.13980293 -0.14285751 -0.14435662 -0.14039567 -0.14066276\n",
      " -0.15924729 -0.16070106 -0.15767611 -0.15411122 -0.15876812 -0.16815632\n",
      " -0.13669648 -0.14334682 -0.1485169  -0.14259832 -0.13957486 -0.15269239\n",
      " -0.17139389 -0.17079639 -0.17856223 -0.1537594  -0.18515042 -0.17040143\n",
      " -0.18905524 -0.1510852  -0.16567974 -0.14229559 -0.14604621 -0.18479643\n",
      " -0.18309545 -0.18759333 -0.18457681 -0.18014055 -0.1741795  -0.18925649\n",
      " -0.18941375 -0.19310294 -0.18789991 -0.19173086 -0.1939961  -0.17550564\n",
      " -0.17864076 -0.18166654 -0.17483228 -0.18361634 -0.1742866  -0.17820233\n",
      " -0.17471425 -0.18067415 -0.19071687 -0.18288132 -0.19653348 -0.19071217\n",
      " -0.17979107 -0.17135883 -0.17004139 -0.18084817 -0.19734454 -0.19217377\n",
      " -0.20106818 -0.21578945 -0.20733126 -0.21812405 -0.24585084 -0.27673189\n",
      " -0.26942934 -0.25913382 -0.26899247 -0.27145763 -0.27132723 -0.27320302\n",
      " -0.27037474 -0.26278611 -0.27335678 -0.2692042  -0.25397703 -0.24713358\n",
      " -0.25452628 -0.25245179 -0.24006642 -0.24233272 -0.23551846 -0.25105701\n",
      " -0.25306719 -0.26605808 -0.27414487 -0.26738914 -0.27026686 -0.25886004\n",
      " -0.27233908 -0.2766086  -0.27765763 -0.27746128 -0.28258522 -0.27677403\n",
      " -0.27230832 -0.27559501 -0.27688245 -0.26801736 -0.26493415 -0.27133082\n",
      " -0.26990191 -0.26233572 -0.23651264 -0.25067455 -0.24827502 -0.2517938\n",
      " -0.26877337 -0.24530394 -0.21926548 -0.21362668 -0.19769987 -0.20620457\n",
      " -0.21210527 -0.21911109 -0.21637201 -0.22137257 -0.22278892 -0.21466224\n",
      " -0.21692632 -0.20671121 -0.21222779 -0.20921595 -0.21092391 -0.21598951\n",
      " -0.21604765 -0.21114454 -0.21683555 -0.23573374 -0.2314319  -0.2386339\n",
      " -0.23463635 -0.2398688  -0.23596361 -0.24189735 -0.25011878 -0.24946703\n",
      " -0.24861255 -0.24956449 -0.2504005  -0.25365534 -0.25630765 -0.25629832\n",
      " -0.26539782 -0.26388524 -0.25857532 -0.26523542 -0.26379446 -0.26489544\n",
      " -0.26758672 -0.27580987 -0.27482604 -0.27659925 -0.27589459 -0.27181889\n",
      " -0.27446006 -0.27112773 -0.27348795 -0.27552939 -0.27473822 -0.27568281\n",
      " -0.26848768 -0.26898814 -0.26974293 -0.26711393 -0.26785243 -0.26924492\n",
      " -0.26301005 -0.26435878 -0.25913404 -0.2632555  -0.26607656 -0.26856855\n",
      " -0.26830959 -0.2656247  -0.25594387 -0.2633083  -0.22634942 -0.22971944\n",
      " -0.22250045 -0.223626   -0.22669714 -0.20063861 -0.19717335 -0.19787509\n",
      " -0.19377751 -0.19716901 -0.18536525 -0.1931087 ]\n"
     ]
    }
   ],
   "source": [
    "ks1 = [[\n",
    "(ks <= 0.5).sum(),\n",
    "sum([1 for k in ks if k > 0.5 and k <= 0.7]),\n",
    "(ks > 0.7).sum()]]\n",
    "pd.DataFrame(ks1,\n",
    "columns=[\"k<=0.5\",\"0.5<k<=0.7\",\"0.7<k\"])\n",
    "print(ks)"
   ]
  },
  {
   "cell_type": "code",
   "execution_count": 29,
   "metadata": {},
   "outputs": [
    {
     "name": "stdout",
     "output_type": "stream",
     "text": [
      "5.670157265205489\n"
     ]
    }
   ],
   "source": [
    "S = np.size(loglik, 0)\n",
    "lppd = sum(np.log([1/S*sum(np.exp(col)) for col in loglik.T]))\n",
    "p_loocv = lppd - loo1\n",
    "print(p_loocv)"
   ]
  },
  {
   "cell_type": "code",
   "execution_count": null,
   "metadata": {},
   "outputs": [],
   "source": []
  }
 ],
 "metadata": {
  "kernelspec": {
   "display_name": "Python 3",
   "language": "python",
   "name": "python3"
  },
  "language_info": {
   "codemirror_mode": {
    "name": "ipython",
    "version": 3
   },
   "file_extension": ".py",
   "mimetype": "text/x-python",
   "name": "python",
   "nbconvert_exporter": "python",
   "pygments_lexer": "ipython3",
   "version": "3.6.7"
  }
 },
 "nbformat": 4,
 "nbformat_minor": 2
}
