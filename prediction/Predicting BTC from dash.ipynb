{
 "cells": [
  {
   "cell_type": "markdown",
   "metadata": {},
   "source": [
    "# 1. Linear model, predicting price BTC from price of DASH"
   ]
  },
  {
   "cell_type": "markdown",
   "metadata": {},
   "source": [
    "## Imports\n",
    "\n",
    "Import pacakges"
   ]
  },
  {
   "cell_type": "code",
   "execution_count": 60,
   "metadata": {},
   "outputs": [],
   "source": [
    "%matplotlib inline\n",
    "\n",
    "import numpy as np\n",
    "import pandas as pd\n",
    "import matplotlib.pyplot as plt\n",
    "\n",
    "import sys\n",
    "# the mock-0.3.1 dir contains testcase.py, testutils.py & mock.py\n",
    "sys.path.append('../')\n",
    "\n",
    "import pystan\n",
    "import stan_utility"
   ]
  },
  {
   "cell_type": "markdown",
   "metadata": {},
   "source": [
    "## Data\n",
    "\n",
    "Initialize data"
   ]
  },
  {
   "cell_type": "code",
   "execution_count": 61,
   "metadata": {
    "scrolled": false
   },
   "outputs": [
    {
     "name": "stdout",
     "output_type": "stream",
     "text": [
      "     BTC price(USD)  DASH price(USD)\n",
      "0            655.41             9.36\n",
      "1            661.26             9.24\n",
      "2            654.23             9.15\n",
      "3            651.63             8.90\n",
      "4            654.49             9.15\n",
      "5            655.11             9.32\n",
      "6            657.01             9.45\n",
      "7            655.10             9.18\n",
      "8            624.60             9.45\n",
      "9            606.40            10.02\n",
      "10           548.66             9.29\n",
      "11           566.33             9.32\n",
      "12           578.28             9.53\n",
      "13           575.03             9.71\n",
      "14           587.77            10.59\n",
      "15           592.74            10.34\n",
      "16           591.04            10.35\n",
      "17           587.65            10.32\n",
      "18           592.12            10.44\n",
      "19           588.80            11.09\n",
      "20           587.36            12.56\n",
      "21           585.59            12.82\n",
      "22           570.49            14.52\n",
      "23           567.24            13.23\n",
      "24           577.76            12.91\n",
      "25           573.71            12.45\n",
      "26           574.34            13.83\n",
      "27           576.08            13.75\n",
      "28           581.94            13.09\n",
      "29           581.31            13.41\n",
      "..              ...              ...\n",
      "826         6482.66           153.64\n",
      "827         6492.35           156.07\n",
      "828         6337.04           150.25\n",
      "829         6336.99           153.36\n",
      "830         6318.14           151.91\n",
      "831         6378.92           153.63\n",
      "832         6387.24           154.34\n",
      "833         6365.47           154.87\n",
      "834         6363.62           161.58\n",
      "835         6433.38           164.86\n",
      "836         6468.50           170.12\n",
      "837         6522.27           166.25\n",
      "838         6442.60           164.16\n",
      "839         6386.13           159.96\n",
      "840         6413.63           161.77\n",
      "841         6411.76           160.24\n",
      "842         6373.19           163.01\n",
      "843         6351.24           160.74\n",
      "844         5736.15           144.04\n",
      "845         5645.32           138.54\n",
      "846         5578.58           137.39\n",
      "847         5559.74           132.92\n",
      "848         5620.78           132.69\n",
      "849         4863.93           109.39\n",
      "850         4465.54           105.01\n",
      "851         4611.57           114.41\n",
      "852         4360.70           102.20\n",
      "853         4347.69            99.42\n",
      "854         3880.78            93.04\n",
      "855         4015.07            91.13\n",
      "\n",
      "[856 rows x 2 columns]\n"
     ]
    }
   ],
   "source": [
    "data = pd.read_csv('/home/jonatan/projects/school/BDA_Project/data/selected/combined.csv', delimiter=\",\")\n",
    "data = data[['BTC price(USD)', 'DASH price(USD)']]\n",
    "#data = (data - data.mean()) / (data.max() - data.min())\n",
    "print(data)"
   ]
  },
  {
   "cell_type": "code",
   "execution_count": 62,
   "metadata": {},
   "outputs": [
    {
     "name": "stdout",
     "output_type": "stream",
     "text": [
      "[  548.66        2651.67555556  4754.69111111  6857.70666667\n",
      "  8960.72222222 11063.73777778 13166.75333333 15269.76888889\n",
      " 17372.78444444 19475.8       ]\n"
     ]
    }
   ],
   "source": [
    "n = data.shape[0]\n",
    "m = 10\n",
    "x = data[['BTC price(USD)']].values.flatten()[0:n]\n",
    "y = data[['DASH price(USD)']].values.flatten()[0:n]\n",
    "p = np.linspace(data[['BTC price(USD)']].min(), data[['BTC price(USD)']].max(), m)\n",
    "print(p)"
   ]
  },
  {
   "cell_type": "markdown",
   "metadata": {},
   "source": [
    "## Read and display edited stan code\n"
   ]
  },
  {
   "cell_type": "code",
   "execution_count": 63,
   "metadata": {},
   "outputs": [
    {
     "name": "stdout",
     "output_type": "stream",
     "text": [
      "data {\n",
      "\tint<lower=0> N;\t// number of data points\n",
      "\tint<lower=0> M;\t// number of prediction points\n",
      "\tvector[N] x;\t// Coin 1\n",
      "\tvector[N] y;\t// Coin 2\n",
      "\tvector[M] xpreds;\t// Coin 1 hypothetical future prices\n",
      "}\n",
      "parameters {\n",
      "\treal alpha;\n",
      "\treal beta;\n",
      "\treal sigma;\n",
      "}\n",
      "transformed parameters {\n",
      "  vector[N] mu;\n",
      "  mu = alpha + beta*x;\n",
      "}\n",
      "model {\n",
      "\tbeta ~ normal(0, 1);\n",
      "\ty ~ normal(mu, sigma);\n",
      "}\n",
      "generated quantities {\n",
      "\tvector[M] ypreds; // Predictions based on hypothetical future prices of coin 1\n",
      "\tvector[N] log_lik;\n",
      "\tfor(i in 1:M) {\n",
      "\t\typreds[i] = normal_rng(alpha + beta*xpreds[i], sigma);\n",
      "\t}\n",
      "\tfor (i in 1:N){\n",
      "        log_lik[i] = normal_lpdf(y[i] | mu[i], sigma);\n",
      "\t}\n",
      "}\n",
      "\n"
     ]
    }
   ],
   "source": [
    "with open('lin_ex2.stan') as file:\n",
    "    print(file.read())"
   ]
  },
  {
   "cell_type": "markdown",
   "metadata": {},
   "source": [
    "## Generate model"
   ]
  },
  {
   "cell_type": "code",
   "execution_count": 64,
   "metadata": {},
   "outputs": [
    {
     "name": "stdout",
     "output_type": "stream",
     "text": [
      "Using cached StanModel\n"
     ]
    }
   ],
   "source": [
    "model = stan_utility.compile_model('lin_ex2.stan')"
   ]
  },
  {
   "cell_type": "markdown",
   "metadata": {},
   "source": [
    "## Set model data"
   ]
  },
  {
   "cell_type": "code",
   "execution_count": 65,
   "metadata": {},
   "outputs": [
    {
     "name": "stdout",
     "output_type": "stream",
     "text": [
      "OrderedDict([('alpha', array([-48.04731942, -40.17242543, -36.04711514, ..., -40.09214386,\n",
      "       -57.64233826, -57.56683442])), ('beta', array([0.05931098, 0.06007346, 0.05951384, ..., 0.05825371, 0.06181628,\n",
      "       0.06193951])), ('sigma', array([109.50304523, 113.53510349, 110.46616854, ..., 112.53977287,\n",
      "       112.49830698, 112.75794749])), ('mu', array([[ -9.17431089,  -8.82734166,  -9.24429784, ..., 209.81842945,\n",
      "        182.1255404 , 190.09041172],\n",
      "       [ -0.79967865,  -0.44824891,  -0.87056533, ..., 221.00835828,\n",
      "        192.95945882, 201.02672383],\n",
      "       [  2.95885314,   3.30700913,   2.8886268 , ..., 222.70062784,\n",
      "        194.91301909, 202.90513316],\n",
      "       ...,\n",
      "       [ -1.91207852,  -1.57129431,  -1.9808179 , ..., 213.17693697,\n",
      "        185.97769633, 193.80058731],\n",
      "       [-17.12732955, -16.7657043 , -17.20027276, ..., 211.11568838,\n",
      "        182.25304862, 190.554357  ],\n",
      "       [-16.97106094, -16.60871482, -17.04414956, ..., 211.72694869,\n",
      "        182.80677263, 191.12462927]])), ('ypreds', array([[  -5.71038368,   79.26786664,   42.73875521, ...,  888.946549  ,\n",
      "        1040.49145601,  867.84157967],\n",
      "       [  86.3030706 ,  293.7540174 ,  290.71414897, ...,  809.13786905,\n",
      "         795.22167648, 1083.86214207],\n",
      "       [-155.44478851,   88.02378496,  168.26701282, ...,  779.60825057,\n",
      "         979.22502811,  942.85797981],\n",
      "       ...,\n",
      "       [-212.22130155,  -58.80536421,  246.09582199, ...,  877.78395185,\n",
      "        1017.75114208, 1001.3426044 ],\n",
      "       [  51.29676322,  240.16582613,  405.95384924, ..., 1016.88311721,\n",
      "        1041.88619122, 1305.31413116],\n",
      "       [ -65.50899498,   25.20726813,  379.76103017, ...,  900.19213727,\n",
      "         951.14090075, 1018.78223482]])), ('log_lik', array([[-5.6292151 , -5.6285024 , -5.6289995 , ..., -6.12310112,\n",
      "        -5.94581777, -6.02324845],\n",
      "       [-5.65505438, -5.65469143, -5.65494548, ..., -6.22449812,\n",
      "        -6.03831701, -6.11951779],\n",
      "       [-5.62532675, -5.62509015, -5.62525423, ..., -6.24637972,\n",
      "        -6.0488836 , -6.13556751],\n",
      "       ...,\n",
      "       [-5.64726133, -5.64685961, -5.64713639, ..., -6.15311913,\n",
      "        -5.98323531, -6.05839535],\n",
      "       [-5.66959423, -5.6685954 , -5.66930812, ..., -6.13476766,\n",
      "        -5.95631454, -6.03241499],\n",
      "       [-5.67144743, -5.67045765, -5.67116463, ..., -6.14019029,\n",
      "        -5.96107081, -6.03739605]])), ('lp__', array([-4456.44500353, -4456.64131537, -4457.01161278, ...,\n",
      "       -4457.55945396, -4456.63354701, -4456.80438864]))])\n"
     ]
    }
   ],
   "source": [
    "data1 = dict(\n",
    "    N=n,\n",
    "    M=m,\n",
    "    x=x,\n",
    "    y=y,\n",
    "    xpreds=p\n",
    ")\n",
    "fit1 = model.sampling(data=data1, seed=74749)\n",
    "samples1 = fit1.extract(permuted=True)\n",
    "print(samples1)"
   ]
  },
  {
   "cell_type": "code",
   "execution_count": 66,
   "metadata": {},
   "outputs": [
    {
     "name": "stdout",
     "output_type": "stream",
     "text": [
      "(4000,)\n"
     ]
    },
    {
     "data": {
      "image/png": "[encoded data removed]",
      "text/plain": [
       "<Figure size 864x504 with 1 Axes>"
      ]
     },
     "metadata": {
      "needs_background": "light"
     },
     "output_type": "display_data"
    }
   ],
   "source": [
    "preds = samples1['ypreds'].T\n",
    "print(preds[0].shape)\n",
    "f, ax = plt.subplots(1, 1, figsize=(12,7), sharex=True)\n",
    "ax.scatter(data['BTC price(USD)'], data['DASH price(USD)'], label='Price DASH/BTC')\n",
    "ax.set_ylabel('DASH price(USD)')\n",
    "ax.set_xlabel('BTC price(USD)')\n",
    "for i in range(m):\n",
    "    ax.scatter([p[i]]*len(preds[i]),preds[i], alpha=0.01, c='g')\n",
    "    ax.scatter(p[i],np.mean(preds[i]), c='r')\n",
    "plt.legend(loc='best')\n",
    "plt.show()"
   ]
  },
  {
   "cell_type": "markdown",
   "metadata": {},
   "source": [
    "## Plot ypred histogram"
   ]
  },
  {
   "cell_type": "code",
   "execution_count": 75,
   "metadata": {},
   "outputs": [
    {
     "data": {
      "image/png": "[encoded data removed]",
      "text/plain": [
       "<Figure size 720x576 with 1 Axes>"
      ]
     },
     "metadata": {
      "needs_background": "light"
     },
     "output_type": "display_data"
    }
   ],
   "source": [
    "# plot beat histogram\n",
    "fig, ax = plt.subplots(1, 1, figsize=(10,8))\n",
    "\n",
    "# plot post pred histogram\n",
    "ax.set_xlabel('ypred')\n",
    "ax.set_ylabel('')\n",
    "ax.set_yticks([])\n",
    "ax.set_xticks(np.linspace(-500, 400, 10))\n",
    "ax.grid(axis='x')\n",
    "s = pd.Series(preds[0])\n",
    "ax.hist(s, bins=50)\n",
    "plt.show()\n"
   ]
  },
  {
   "cell_type": "code",
   "execution_count": 68,
   "metadata": {},
   "outputs": [],
   "source": [
    "from psis import psisloo"
   ]
  },
  {
   "cell_type": "code",
   "execution_count": 69,
   "metadata": {},
   "outputs": [
    {
     "name": "stdout",
     "output_type": "stream",
     "text": [
      "Loo: -5245.654198239507\n"
     ]
    }
   ],
   "source": [
    "loglik = samples1['log_lik']\n",
    "loo1, loos, ks = psisloo(loglik)\n",
    "print(\"Loo: {}\".format(loo1))"
   ]
  },
  {
   "cell_type": "code",
   "execution_count": 72,
   "metadata": {},
   "outputs": [
    {
     "name": "stdout",
     "output_type": "stream",
     "text": [
      "[-0.19797156 -0.1977893  -0.19860216 -0.19898326 -0.19866171 -0.19778403\n",
      " -0.19788501 -0.19864818 -0.20032577 -0.20259019 -0.18556045 -0.19413276\n",
      " -0.19486131 -0.19425072 -0.19421957 -0.19982744 -0.1950712  -0.19471865\n",
      " -0.19509371 -0.19351343 -0.18432877 -0.17903026 -0.1756917  -0.17593202\n",
      " -0.18392767 -0.18039255 -0.17600101 -0.17625567 -0.18281321 -0.18619677\n",
      " -0.17755738 -0.18668567 -0.18694126 -0.1797049  -0.17883114 -0.18578244\n",
      " -0.1784742  -0.18630915 -0.18435062 -0.18520565 -0.18484912 -0.18707018\n",
      " -0.19462898 -0.20112405 -0.1988339  -0.20352199 -0.20355887 -0.20060841\n",
      " -0.20313486 -0.20165808 -0.20090237 -0.19304997 -0.1867309  -0.19034865\n",
      " -0.19350766 -0.19475856 -0.19437423 -0.19495197 -0.19608255 -0.19483799\n",
      " -0.19382867 -0.19338363 -0.19443855 -0.19456061 -0.19442235 -0.19715609\n",
      " -0.19486743 -0.19465688 -0.19450505 -0.19444806 -0.20038994 -0.19557533\n",
      " -0.19660357 -0.19451651 -0.19486279 -0.1949268  -0.20089678 -0.20035584\n",
      " -0.2002036  -0.20180042 -0.20282297 -0.20243839 -0.20195134 -0.20117819\n",
      " -0.19938306 -0.19917716 -0.20036378 -0.19961035 -0.19882377 -0.1984702\n",
      " -0.20059472 -0.20031699 -0.2005126  -0.20065252 -0.19819956 -0.18969098\n",
      " -0.19028418 -0.18916091 -0.18677785 -0.18829458 -0.19240446 -0.18962341\n",
      " -0.18898953 -0.18788703 -0.19389243 -0.1939072  -0.19140523 -0.18860478\n",
      " -0.19265942 -0.18635985 -0.19178176 -0.1911526  -0.19030653 -0.18908349\n",
      " -0.18987738 -0.19434526 -0.19014152 -0.18964601 -0.1821242  -0.18567482\n",
      " -0.19078086 -0.18782107 -0.18444591 -0.18281429 -0.18998122 -0.19067535\n",
      " -0.19065986 -0.19115022 -0.19068345 -0.19079157 -0.18602271 -0.18631503\n",
      " -0.18124683 -0.17989806 -0.18166548 -0.18307926 -0.18217024 -0.17960246\n",
      " -0.18003899 -0.18079387 -0.18158419 -0.18607152 -0.18253355 -0.17970662\n",
      " -0.18201183 -0.18009349 -0.17977496 -0.182624   -0.18124546 -0.1798896\n",
      " -0.18272579 -0.17111626 -0.16150332 -0.14588895 -0.15268625 -0.15383791\n",
      " -0.14844008 -0.14531569 -0.14732848 -0.14788277 -0.14921183 -0.14769317\n",
      " -0.14784673 -0.1496276  -0.1524631  -0.14251964 -0.14925092 -0.16179851\n",
      " -0.16102569 -0.16175307 -0.16131323 -0.16246498 -0.1892971  -0.18113309\n",
      " -0.18197663 -0.18200237 -0.1821456  -0.18198914 -0.16790931 -0.17124152\n",
      " -0.17417349 -0.1747812  -0.16731395 -0.16785346 -0.17308857 -0.17212252\n",
      " -0.17342506 -0.17193412 -0.17311327 -0.17191019 -0.17313123 -0.17113528\n",
      " -0.16241624 -0.15646301 -0.14788963 -0.14845172 -0.14701896 -0.14831008\n",
      " -0.14913037 -0.14917161 -0.14823549 -0.15854593 -0.16309107 -0.15878112\n",
      " -0.15899717 -0.16292965 -0.16215519 -0.1665022  -0.16121041 -0.1615894\n",
      " -0.16642717 -0.17052177 -0.15892444 -0.15068754 -0.14798832 -0.1498243\n",
      " -0.15043651 -0.16244518 -0.16747945 -0.16352079 -0.17438765 -0.18952983\n",
      " -0.1886145  -0.19910294 -0.18849107 -0.18651103 -0.19864258 -0.19914709\n",
      " -0.19436745 -0.19369173 -0.18589261 -0.16099066 -0.16177587 -0.1751463\n",
      " -0.14200368 -0.12746073 -0.12072709 -0.11887799 -0.11300935 -0.11803573\n",
      " -0.13135797 -0.12363051 -0.13044664 -0.13314879 -0.13422313 -0.1311452\n",
      " -0.1317874  -0.12793022 -0.12510046 -0.12448516 -0.12070808 -0.13925193\n",
      " -0.15564866 -0.16511857 -0.16806881 -0.16484874 -0.1411874  -0.16932573\n",
      " -0.16889727 -0.16693168 -0.16819203 -0.16692344 -0.17126502 -0.16976486\n",
      " -0.1626539  -0.17038362 -0.16157169 -0.16419583 -0.16641477 -0.17238249\n",
      " -0.16594927 -0.16786504 -0.16697203 -0.16770613 -0.16876961 -0.16720161\n",
      " -0.1707944  -0.17398491 -0.16402516 -0.17046027 -0.14034154 -0.13852747\n",
      " -0.17141192 -0.16316014 -0.16492282 -0.16436361 -0.15923632 -0.16839457\n",
      " -0.14369979 -0.18427984 -0.1945695  -0.18677728 -0.19937928 -0.19458824\n",
      " -0.2026165  -0.2041897  -0.19658677 -0.1961849  -0.19321706 -0.19571268\n",
      " -0.20019134 -0.19138575 -0.19837867 -0.19284699 -0.17322489 -0.18601672\n",
      " -0.19591044 -0.19458371 -0.18975548 -0.19506976 -0.19234942 -0.19252602\n",
      " -0.17579102 -0.18547489 -0.1885167  -0.19741272 -0.194987   -0.19542703\n",
      " -0.19413511 -0.19379482 -0.19400292 -0.19207136 -0.18942583 -0.16546329\n",
      " -0.16750846 -0.14502829 -0.16496976 -0.16229004 -0.16243969 -0.14702581\n",
      " -0.1039184  -0.0962239  -0.13802862 -0.14775282 -0.15203772 -0.1351564\n",
      " -0.14337539 -0.14486962 -0.16185095 -0.14511741 -0.14115635 -0.1463683\n",
      " -0.12264191 -0.14006659 -0.14808023 -0.14314302 -0.13776443 -0.09085493\n",
      " -0.08574279 -0.10366108 -0.08375086 -0.10375071 -0.12747256 -0.14375964\n",
      " -0.10936907 -0.12468193 -0.13889671 -0.13984081 -0.14685369 -0.1433758\n",
      " -0.14192968 -0.14464952 -0.14454134 -0.13994194 -0.12903169 -0.13554035\n",
      " -0.10769316 -0.10109232 -0.09635589 -0.12902448 -0.15225517 -0.1416457\n",
      " -0.16053008 -0.1678924  -0.14266913 -0.14527141 -0.14293613 -0.16007608\n",
      " -0.20200183 -0.20279103 -0.19285433 -0.20099644 -0.20269907 -0.20106572\n",
      " -0.18236209 -0.18185152 -0.15448322 -0.14420853 -0.15246833 -0.17999642\n",
      " -0.18671653 -0.18892607 -0.1039945  -0.08700608 -0.10118416 -0.08050864\n",
      " -0.08406085 -0.095833   -0.09328591 -0.19639945 -0.18710394 -0.17792672\n",
      " -0.1493614  -0.17425871 -0.17659976 -0.17589866 -0.1492292  -0.14670726\n",
      " -0.11540818 -0.12800698 -0.13248632 -0.13273293 -0.1457369  -0.12943419\n",
      " -0.14495148 -0.12831897 -0.14590975 -0.11452892 -0.07213284 -0.10167605\n",
      " -0.160068   -0.17717121 -0.17417114 -0.1774936  -0.19501472 -0.18860259\n",
      " -0.19412823 -0.19965942 -0.19130257 -0.19580721 -0.19842332 -0.17673014\n",
      " -0.16812392 -0.14194917 -0.12801843 -0.09264051 -0.09817735 -0.101356\n",
      " -0.09232215 -0.09426992 -0.09718999 -0.09621501 -0.14610558 -0.18157769\n",
      " -0.19772823 -0.18784038 -0.17239177 -0.18827578 -0.17676474 -0.17590465\n",
      " -0.15854024 -0.1676559  -0.16702017 -0.14855274 -0.14343143 -0.16157146\n",
      " -0.16155997 -0.14589686 -0.16909137 -0.13126732 -0.14471454 -0.1491851\n",
      " -0.15088854 -0.15926534 -0.16102114 -0.15262091 -0.15259196 -0.19033717\n",
      " -0.16950279 -0.19781616 -0.19742719 -0.16549461 -0.12900566 -0.11454476\n",
      " -0.12637918 -0.14933872 -0.17443381 -0.18435158 -0.10412553 -0.11087696\n",
      " -0.17243442 -0.15116224 -0.15996684 -0.14728051 -0.16135938 -0.14320662\n",
      " -0.1448905  -0.12724559 -0.12598657 -0.13132192 -0.10505168 -0.11558128\n",
      " -0.12424435 -0.12331687 -0.11546343 -0.10944065 -0.08819061 -0.09295197\n",
      " -0.11888325 -0.12871611 -0.10522898 -0.0419067   0.00810969 -0.04518903\n",
      " -0.05445022 -0.06608356 -0.0505193   0.00587729  0.02032929 -0.01387951\n",
      " -0.01143739 -0.00127562 -0.02291995 -0.03853111 -0.06237283  0.35636242\n",
      "  0.22980225  0.08897194  0.14204596  0.07157085  0.04189935 -0.01429653\n",
      " -0.03002211  0.01122065 -0.00483142 -0.04772197 -0.05759156 -0.0430967\n",
      "  0.03088157 -0.00689758  0.02679771 -0.07125581 -0.01521572  0.03632301\n",
      " -0.06129552 -0.03313234 -0.05348593 -0.06068251 -0.05470505 -0.03397686\n",
      " -0.06165703 -0.09344564 -0.12797111 -0.09490547 -0.09215723 -0.08863897\n",
      " -0.08311275 -0.09531663 -0.10538271 -0.11323598 -0.10187054 -0.09430765\n",
      " -0.09097242 -0.11465437 -0.10448187 -0.12222966 -0.11474006 -0.10947979\n",
      " -0.11979428 -0.12322796 -0.13393197 -0.1288518  -0.10349139 -0.11627209\n",
      " -0.11733488 -0.10472067 -0.10208459 -0.10176598 -0.12724729 -0.13245619\n",
      " -0.13107063 -0.10401595 -0.11441772 -0.10895089 -0.11997638 -0.12757547\n",
      " -0.11646209 -0.11938958 -0.11400332 -0.12179327 -0.13328198 -0.12059498\n",
      " -0.13632177 -0.12463353 -0.13954897 -0.16150256 -0.16136184 -0.13389003\n",
      " -0.09137617 -0.08906224 -0.08746955 -0.1166599  -0.10772156 -0.14137093\n",
      " -0.15608849 -0.15009651 -0.15070653 -0.15643601 -0.15766237 -0.16339088\n",
      " -0.14505534 -0.15483779 -0.14781897 -0.09737683 -0.09786241 -0.09450093\n",
      " -0.09834079 -0.09523048 -0.09913903 -0.10013264 -0.10373577 -0.10368272\n",
      " -0.11107341 -0.09738462 -0.13306729 -0.14201633 -0.13500341 -0.14772532\n",
      " -0.13265371 -0.11859227 -0.13194538 -0.13443408 -0.14064753 -0.13752828\n",
      " -0.12639075 -0.13556571 -0.12583281 -0.12904516 -0.10614459 -0.11246093\n",
      " -0.10826891 -0.09612809 -0.10708511 -0.11317064 -0.16278205 -0.15115621\n",
      " -0.15866534 -0.11351524 -0.15298072 -0.15580094 -0.14729041 -0.15736097\n",
      " -0.14811613 -0.15871478 -0.15738841 -0.15716546 -0.12705432 -0.15680979\n",
      " -0.15084444 -0.11823024 -0.08720743 -0.108836   -0.08360517 -0.09178404\n",
      " -0.08811582 -0.09013946 -0.08390618 -0.09559414 -0.09274234 -0.09158014\n",
      " -0.11634854 -0.14399982 -0.12269867 -0.11217014 -0.09587459 -0.09995349\n",
      " -0.0955133  -0.1012141  -0.10705716 -0.11533078 -0.1195833  -0.12277507\n",
      " -0.12800599 -0.11404643 -0.14867867 -0.11555011 -0.13404812 -0.1414713\n",
      " -0.1225755  -0.12011472 -0.11266434 -0.11296944 -0.13411498 -0.13471661\n",
      " -0.1440189  -0.14282794 -0.15280188 -0.15826068 -0.16669776 -0.15249464\n",
      " -0.16363743 -0.15894966 -0.15052478 -0.14003232 -0.14550944 -0.16788\n",
      " -0.17171107 -0.16540688 -0.17058177 -0.17794005 -0.16985825 -0.17381902\n",
      " -0.16379778 -0.17704184 -0.19009293 -0.18138261 -0.17899308 -0.19662197\n",
      " -0.20289012 -0.19339072 -0.2079683  -0.19569329 -0.20470631 -0.21054501\n",
      " -0.21678093 -0.21749146 -0.23358035 -0.21934704 -0.22968579 -0.22722631\n",
      " -0.21617443 -0.19785906 -0.20314588 -0.20516617 -0.20978321 -0.20149163\n",
      " -0.20681518 -0.22837631 -0.21450291 -0.22248938 -0.21334353 -0.17115502\n",
      " -0.17727386 -0.18964521 -0.17747868 -0.17322899 -0.17377364 -0.16985859\n",
      " -0.18136759 -0.19004364 -0.1930748  -0.20538338 -0.23045683 -0.22871465\n",
      " -0.23285838 -0.23377281 -0.25777838 -0.25318819 -0.25771255 -0.24658999\n",
      " -0.24558613 -0.22273244 -0.22219339 -0.23232345 -0.22530161 -0.21265633\n",
      " -0.21954631 -0.2118218  -0.2230926  -0.19325696 -0.20037929 -0.18223559\n",
      " -0.17850677 -0.17526323 -0.17796133 -0.21369589 -0.22191255 -0.21509143\n",
      " -0.2158897  -0.22153924 -0.23314912 -0.21953597 -0.22817469 -0.22199032\n",
      " -0.20731819 -0.24704908 -0.24935566 -0.24917537 -0.24792691 -0.24262583\n",
      " -0.25182204 -0.25649386 -0.24389167 -0.24377624 -0.23975983 -0.24592193\n",
      " -0.25038007 -0.24848522 -0.24873937 -0.24097799 -0.23942723 -0.24098661\n",
      " -0.23847014 -0.23788613 -0.25066032 -0.25057021 -0.24360848 -0.24534751\n",
      " -0.24987885 -0.24942567 -0.24642951 -0.24882999 -0.2480529  -0.23904748\n",
      " -0.2406512  -0.2400298  -0.23391088 -0.23430351 -0.22660807 -0.23295467\n",
      " -0.24885075 -0.24874391 -0.24754028 -0.24304304 -0.20595906 -0.2075832\n",
      " -0.20966341 -0.21491905 -0.21468176 -0.21425848 -0.21356164 -0.21493475\n",
      " -0.21235875 -0.2147865  -0.21677841 -0.21525964 -0.21243797 -0.21283498\n",
      " -0.22499677 -0.22916053 -0.23177115 -0.21873569 -0.2205303  -0.22802389\n",
      " -0.23860196 -0.23243062 -0.23357612 -0.21740639 -0.23041134 -0.2395137\n",
      " -0.23678449 -0.23239827 -0.23811211 -0.23970349 -0.25416878 -0.26249672\n",
      " -0.2710264  -0.26333766 -0.25840361 -0.24137324 -0.22274893 -0.2314563\n",
      " -0.22637429 -0.21964279 -0.20964812 -0.21169174]\n"
     ]
    }
   ],
   "source": [
    "ks1 = [[\n",
    "(ks <= 0.5).sum(),\n",
    "sum([1 for k in ks if k > 0.5 and k <= 0.7]),\n",
    "(ks > 0.7).sum()]]\n",
    "pd.DataFrame(ks1,\n",
    "columns=[\"k<=0.5\",\"0.5<k<=0.7\",\"0.7<k\"])\n",
    "print(ks)"
   ]
  },
  {
   "cell_type": "code",
   "execution_count": 71,
   "metadata": {},
   "outputs": [
    {
     "name": "stdout",
     "output_type": "stream",
     "text": [
      "5.470369184769879\n"
     ]
    }
   ],
   "source": [
    "S = np.size(loglik, 0)\n",
    "lppd = sum(np.log([1/S*sum(np.exp(col)) for col in loglik.T]))\n",
    "p_loocv = lppd - loo1\n",
    "print(p_loocv)"
   ]
  },
  {
   "cell_type": "code",
   "execution_count": null,
   "metadata": {},
   "outputs": [],
   "source": []
  }
 ],
 "metadata": {
  "kernelspec": {
   "display_name": "Python 3",
   "language": "python",
   "name": "python3"
  },
  "language_info": {
   "codemirror_mode": {
    "name": "ipython",
    "version": 3
   },
   "file_extension": ".py",
   "mimetype": "text/x-python",
   "name": "python",
   "nbconvert_exporter": "python",
   "pygments_lexer": "ipython3",
   "version": "3.6.7"
  }
 },
 "nbformat": 4,
 "nbformat_minor": 2
}
