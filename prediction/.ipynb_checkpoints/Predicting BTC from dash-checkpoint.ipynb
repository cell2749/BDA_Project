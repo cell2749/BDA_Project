{
 "cells": [
  {
   "cell_type": "markdown",
   "metadata": {},
   "source": [
    "# 1. Linear model, predicting price BTC from price of DASH"
   ]
  },
  {
   "cell_type": "markdown",
   "metadata": {},
   "source": [
    "## Imports\n",
    "\n",
    "Import pacakges"
   ]
  },
  {
   "cell_type": "code",
   "execution_count": 8,
   "metadata": {},
   "outputs": [
    {
     "ename": "ModuleNotFoundError",
     "evalue": "No module named 'stan_utility'",
     "output_type": "error",
     "traceback": [
      "\u001b[0;31m---------------------------------------------------------------------------\u001b[0m",
      "\u001b[0;31mModuleNotFoundError\u001b[0m                       Traceback (most recent call last)",
      "\u001b[0;32m<ipython-input-8-f15583442caf>\u001b[0m in \u001b[0;36m<module>\u001b[0;34m()\u001b[0m\n\u001b[1;32m     10\u001b[0m \u001b[0;34m\u001b[0m\u001b[0m\n\u001b[1;32m     11\u001b[0m \u001b[0;32mimport\u001b[0m \u001b[0mpystan\u001b[0m\u001b[0;34m\u001b[0m\u001b[0;34m\u001b[0m\u001b[0m\n\u001b[0;32m---> 12\u001b[0;31m \u001b[0;32mimport\u001b[0m \u001b[0mstan_utility\u001b[0m\u001b[0;34m\u001b[0m\u001b[0;34m\u001b[0m\u001b[0m\n\u001b[0m",
      "\u001b[0;31mModuleNotFoundError\u001b[0m: No module named 'stan_utility'"
     ]
    }
   ],
   "source": [
    "%matplotlib inline\n",
    "\n",
    "import numpy as np\n",
    "import pandas as pd\n",
    "import matplotlib.pyplot as plt\n",
    "\n",
    "import sys\n",
    "# the mock-0.3.1 dir contains testcase.py, testutils.py & mock.py\n",
    "sys.path.append('../')\n",
    "\n",
    "import pystan\n",
    "import stan_utility"
   ]
  },
  {
   "cell_type": "markdown",
   "metadata": {},
   "source": [
    "## Data\n",
    "\n",
    "Initialize data"
   ]
  },
  {
   "cell_type": "code",
   "execution_count": 301,
   "metadata": {
    "scrolled": false
   },
   "outputs": [
    {
     "name": "stdout",
     "output_type": "stream",
     "text": [
      "     BTC price(USD)  DASH price(USD)\n",
      "0         -0.224633        -0.154607\n",
      "1         -0.224324        -0.154685\n",
      "2         -0.224696        -0.154743\n",
      "3         -0.224833        -0.154904\n",
      "4         -0.224682        -0.154743\n",
      "5         -0.224649        -0.154633\n",
      "6         -0.224549        -0.154549\n",
      "7         -0.224650        -0.154723\n",
      "8         -0.226261        -0.154549\n",
      "9         -0.227223        -0.154180\n",
      "10        -0.230273        -0.154652\n",
      "11        -0.229340        -0.154633\n",
      "12        -0.228709        -0.154497\n",
      "13        -0.228880        -0.154381\n",
      "14        -0.228207        -0.153812\n",
      "15        -0.227945        -0.153974\n",
      "16        -0.228034        -0.153967\n",
      "17        -0.228213        -0.153986\n",
      "18        -0.227977        -0.153909\n",
      "19        -0.228153        -0.153489\n",
      "20        -0.228229        -0.152539\n",
      "21        -0.228322        -0.152371\n",
      "22        -0.229120        -0.151272\n",
      "23        -0.229292        -0.152106\n",
      "24        -0.228736        -0.152312\n",
      "25        -0.228950        -0.152610\n",
      "26        -0.228917        -0.151718\n",
      "27        -0.228825        -0.151769\n",
      "28        -0.228515        -0.152196\n",
      "29        -0.228548        -0.151989\n",
      "..              ...              ...\n",
      "826        0.083245        -0.061352\n",
      "827        0.083757        -0.059781\n",
      "828        0.075551        -0.063543\n",
      "829        0.075548        -0.061533\n",
      "830        0.074552        -0.062470\n",
      "831        0.077764        -0.061358\n",
      "832        0.078203        -0.060899\n",
      "833        0.077053        -0.060557\n",
      "834        0.076955        -0.056220\n",
      "835        0.080641        -0.054100\n",
      "836        0.082496        -0.050700\n",
      "837        0.085337        -0.053201\n",
      "838        0.081128        -0.054552\n",
      "839        0.078144        -0.057267\n",
      "840        0.079597        -0.056097\n",
      "841        0.079499        -0.057086\n",
      "842        0.077461        -0.055295\n",
      "843        0.076301        -0.056763\n",
      "844        0.043803        -0.067557\n",
      "845        0.039004        -0.071112\n",
      "846        0.035478        -0.071855\n",
      "847        0.034483        -0.074744\n",
      "848        0.037708        -0.074893\n",
      "849       -0.002280        -0.089953\n",
      "850       -0.023328        -0.092784\n",
      "851       -0.015613        -0.086708\n",
      "852       -0.028867        -0.094600\n",
      "853       -0.029555        -0.096397\n",
      "854       -0.054224        -0.100520\n",
      "855       -0.047129        -0.101755\n",
      "\n",
      "[856 rows x 2 columns]\n"
     ]
    }
   ],
   "source": [
    "data = pd.read_csv('/home/jonatan/projects/school/BDA_Project/data/selected/combined.csv', delimiter=\",\")\n",
    "data = data[['BTC price(USD)', 'DASH price(USD)']]\n",
    "data = (data - data.mean()) / (data.max() - data.min())\n",
    "print(data)"
   ]
  },
  {
   "cell_type": "code",
   "execution_count": 324,
   "metadata": {},
   "outputs": [
    {
     "name": "stdout",
     "output_type": "stream",
     "text": [
      "[-0.15520161 -0.04409049  0.06702062  0.17813173  0.28924284  0.40035395\n",
      "  0.51146506  0.62257617  0.73368728  0.84479839]\n"
     ]
    }
   ],
   "source": [
    "n = data.shape[0]\n",
    "m = 10\n",
    "x = data[['DASH price(USD)']].values.flatten()[0:n]\n",
    "y = data[['BTC price(USD)']].values.flatten()[0:n]\n",
    "p = np.linspace(data[['DASH price(USD)']].min(), data[['DASH price(USD)']].max(), m)\n",
    "print(p)"
   ]
  },
  {
   "cell_type": "markdown",
   "metadata": {},
   "source": [
    "## Read and display edited stan code\n"
   ]
  },
  {
   "cell_type": "code",
   "execution_count": 325,
   "metadata": {},
   "outputs": [
    {
     "name": "stdout",
     "output_type": "stream",
     "text": [
      "data {\n",
      "\tint<lower=0> N;\t// number of data points\n",
      "\tint<lower=0> M;\t// number of data points\n",
      "\tvector[N] x;\t// observation year\n",
      "\tvector[N] y;\t// observation number of drowned\n",
      "\tvector[M] xpreds;\t// predictions\n",
      "}\n",
      "parameters {\n",
      "\treal alpha;\n",
      "\treal beta;\n",
      "\treal sigma;\n",
      "}\n",
      "model {\n",
      "\tbeta ~ normal(0, 1);\n",
      "\ty ~ normal(alpha + beta*x, sigma);\n",
      "}\n",
      "generated quantities {\n",
      "\tvector[M] ypreds;\n",
      "\tfor(i in 1:M) {\n",
      "\t\typreds[i] = normal_rng(alpha + beta*xpreds[i], sigma);\n",
      "\t}\n",
      "}\n",
      "\n"
     ]
    }
   ],
   "source": [
    "with open('lin_ex2.stan') as file:\n",
    "    print(file.read())"
   ]
  },
  {
   "cell_type": "markdown",
   "metadata": {},
   "source": [
    "## Generate model"
   ]
  },
  {
   "cell_type": "code",
   "execution_count": 326,
   "metadata": {},
   "outputs": [
    {
     "name": "stdout",
     "output_type": "stream",
     "text": [
      "Using cached StanModel\n"
     ]
    }
   ],
   "source": [
    "model = stan_utility.compile_model('lin_ex2.stan')"
   ]
  },
  {
   "cell_type": "markdown",
   "metadata": {},
   "source": [
    "## Set model data"
   ]
  },
  {
   "cell_type": "code",
   "execution_count": 327,
   "metadata": {},
   "outputs": [
    {
     "name": "stdout",
     "output_type": "stream",
     "text": [
      "OrderedDict([('alpha', array([-0.00172459,  0.00559796, -0.00151224, ...,  0.00410936,\n",
      "       -0.00591937,  0.00079228])), ('beta', array([1.12145655, 1.14089727, 1.14581718, ..., 1.11732979, 1.10679858,\n",
      "       1.09903914])), ('sigma', array([0.08627031, 0.09294768, 0.08964466, ..., 0.08880815, 0.08877997,\n",
      "       0.08982855])), ('ypreds', array([[-0.06403208, -0.09405673,  0.05216145, ...,  0.74591614,\n",
      "         0.71764822,  0.95045609],\n",
      "       [-0.17199986,  0.06923425,  0.06910115, ...,  0.61597468,\n",
      "         0.82639252,  0.96127996],\n",
      "       [-0.19610173, -0.02589024,  0.08687446, ...,  0.70943357,\n",
      "         0.91366473,  0.85290938],\n",
      "       ...,\n",
      "       [-0.23316759, -0.08587397,  0.0746422 , ...,  0.80156605,\n",
      "         0.71187937,  0.83754226],\n",
      "       [-0.22082319, -0.07632927,  0.19864008, ...,  0.63953191,\n",
      "         0.72575472,  0.92851813],\n",
      "       [ 0.0903538 , -0.14969188,  0.07508349, ...,  0.80471806,\n",
      "         0.81022512,  0.93715932]])), ('lp__', array([1650.13851922, 1646.36795406, 1649.57003486, ..., 1649.66942611,\n",
      "       1648.28520534, 1649.38687524]))])\n"
     ]
    }
   ],
   "source": [
    "data1 = dict(\n",
    "    N=n,\n",
    "    M=m,\n",
    "    x=x,\n",
    "    y=y,\n",
    "    xpreds=p\n",
    ")\n",
    "fit1 = model.sampling(data=data1, seed=74749)\n",
    "samples1 = fit1.extract(permuted=True)\n",
    "print(samples1)"
   ]
  },
  {
   "cell_type": "code",
   "execution_count": 328,
   "metadata": {},
   "outputs": [
    {
     "name": "stdout",
     "output_type": "stream",
     "text": [
      "(4000,)\n"
     ]
    },
    {
     "data": {
      "image/png": "[encoded data removed]",
      "text/plain": [
       "<Figure size 864x504 with 1 Axes>"
      ]
     },
     "metadata": {
      "needs_background": "light"
     },
     "output_type": "display_data"
    }
   ],
   "source": [
    "preds = samples1['ypreds'].T\n",
    "print(preds[0].shape)\n",
    "f, ax = plt.subplots(1, 1, figsize=(12,7), sharex=True)\n",
    "ax.scatter(data['BTC price(USD)'], data['DASH price(USD)'], label='Price DASH/BTC')\n",
    "ax.set_ylabel('DASH price(USD)')\n",
    "ax.set_xlabel('BTC price(USD)')\n",
    "for i in range(m):\n",
    "    ax.scatter([p[i]]*len(preds[i]),preds[i], alpha=0.01, c='g')\n",
    "    ax.scatter(p[i],np.mean(preds[i]), c='r')\n",
    "plt.legend(loc='best')\n",
    "plt.show()"
   ]
  },
  {
   "cell_type": "markdown",
   "metadata": {},
   "source": [
    "## Compare to plots in exersice description"
   ]
  },
  {
   "cell_type": "code",
   "execution_count": 332,
   "metadata": {},
   "outputs": [
    {
     "data": {
      "image/png": "[encoded data removed]",
      "text/plain": [
       "<Figure size 720x576 with 1 Axes>"
      ]
     },
     "metadata": {
      "needs_background": "light"
     },
     "output_type": "display_data"
    }
   ],
   "source": [
    "# plot beat histogram\n",
    "fig, ax = plt.subplots(1, 1, figsize=(10,8))\n",
    "\n",
    "# plot post pred histogram\n",
    "ax.set_xlabel('ypred')\n",
    "ax.set_ylabel('')\n",
    "ax.set_yticks([])\n",
    "ax.set_xticks(np.linspace(-0.5, 0.2, 10))\n",
    "ax.grid(axis='x')\n",
    "s = pd.Series(preds[0])\n",
    "ax.hist(s, bins=50)\n",
    "plt.show()\n"
   ]
  },
  {
   "cell_type": "code",
   "execution_count": null,
   "metadata": {},
   "outputs": [],
   "source": []
  }
 ],
 "metadata": {
  "kernelspec": {
   "display_name": "Python 3",
   "language": "python",
   "name": "python3"
  },
  "language_info": {
   "codemirror_mode": {
    "name": "ipython",
    "version": 3
   },
   "file_extension": ".py",
   "mimetype": "text/x-python",
   "name": "python",
   "nbconvert_exporter": "python",
   "pygments_lexer": "ipython3",
   "version": "3.6.7"
  }
 },
 "nbformat": 4,
 "nbformat_minor": 2
}
