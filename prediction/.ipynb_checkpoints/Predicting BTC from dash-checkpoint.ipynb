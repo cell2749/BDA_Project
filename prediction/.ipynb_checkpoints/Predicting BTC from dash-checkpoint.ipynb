{
 "cells": [
  {
   "cell_type": "markdown",
   "metadata": {},
   "source": [
    "# 1. Linear model, predicting price BTC from price of DASH"
   ]
  },
  {
   "cell_type": "markdown",
   "metadata": {},
   "source": [
    "## Imports\n",
    "\n",
    "Import pacakges"
   ]
  },
  {
   "cell_type": "code",
   "execution_count": 45,
   "metadata": {},
   "outputs": [],
   "source": [
    "%matplotlib inline\n",
    "\n",
    "import numpy as np\n",
    "import pandas as pd\n",
    "import matplotlib.pyplot as plt\n",
    "\n",
    "import sys\n",
    "# the mock-0.3.1 dir contains testcase.py, testutils.py & mock.py\n",
    "sys.path.append('../')\n",
    "\n",
    "import pystan\n",
    "import stan_utility"
   ]
  },
  {
   "cell_type": "markdown",
   "metadata": {},
   "source": [
    "## Data\n",
    "\n",
    "Initialize data"
   ]
  },
  {
   "cell_type": "code",
   "execution_count": 46,
   "metadata": {
    "scrolled": false
   },
   "outputs": [
    {
     "name": "stdout",
     "output_type": "stream",
     "text": [
      "     BTC price(USD)  DASH price(USD)\n",
      "0         -0.224633        -0.154607\n",
      "1         -0.224324        -0.154685\n",
      "2         -0.224696        -0.154743\n",
      "3         -0.224833        -0.154904\n",
      "4         -0.224682        -0.154743\n",
      "5         -0.224649        -0.154633\n",
      "6         -0.224549        -0.154549\n",
      "7         -0.224650        -0.154723\n",
      "8         -0.226261        -0.154549\n",
      "9         -0.227223        -0.154180\n",
      "10        -0.230273        -0.154652\n",
      "11        -0.229340        -0.154633\n",
      "12        -0.228709        -0.154497\n",
      "13        -0.228880        -0.154381\n",
      "14        -0.228207        -0.153812\n",
      "15        -0.227945        -0.153974\n",
      "16        -0.228034        -0.153967\n",
      "17        -0.228213        -0.153986\n",
      "18        -0.227977        -0.153909\n",
      "19        -0.228153        -0.153489\n",
      "20        -0.228229        -0.152539\n",
      "21        -0.228322        -0.152371\n",
      "22        -0.229120        -0.151272\n",
      "23        -0.229292        -0.152106\n",
      "24        -0.228736        -0.152312\n",
      "25        -0.228950        -0.152610\n",
      "26        -0.228917        -0.151718\n",
      "27        -0.228825        -0.151769\n",
      "28        -0.228515        -0.152196\n",
      "29        -0.228548        -0.151989\n",
      "..              ...              ...\n",
      "826        0.083245        -0.061352\n",
      "827        0.083757        -0.059781\n",
      "828        0.075551        -0.063543\n",
      "829        0.075548        -0.061533\n",
      "830        0.074552        -0.062470\n",
      "831        0.077764        -0.061358\n",
      "832        0.078203        -0.060899\n",
      "833        0.077053        -0.060557\n",
      "834        0.076955        -0.056220\n",
      "835        0.080641        -0.054100\n",
      "836        0.082496        -0.050700\n",
      "837        0.085337        -0.053201\n",
      "838        0.081128        -0.054552\n",
      "839        0.078144        -0.057267\n",
      "840        0.079597        -0.056097\n",
      "841        0.079499        -0.057086\n",
      "842        0.077461        -0.055295\n",
      "843        0.076301        -0.056763\n",
      "844        0.043803        -0.067557\n",
      "845        0.039004        -0.071112\n",
      "846        0.035478        -0.071855\n",
      "847        0.034483        -0.074744\n",
      "848        0.037708        -0.074893\n",
      "849       -0.002280        -0.089953\n",
      "850       -0.023328        -0.092784\n",
      "851       -0.015613        -0.086708\n",
      "852       -0.028867        -0.094600\n",
      "853       -0.029555        -0.096397\n",
      "854       -0.054224        -0.100520\n",
      "855       -0.047129        -0.101755\n",
      "\n",
      "[856 rows x 2 columns]\n"
     ]
    }
   ],
   "source": [
    "data = pd.read_csv('/home/jonatan/projects/school/BDA_Project/data/selected/combined.csv', delimiter=\",\")\n",
    "data = data[['BTC price(USD)', 'DASH price(USD)']]\n",
    "data = (data - data.mean()) / (data.max() - data.min())\n",
    "print(data)"
   ]
  },
  {
   "cell_type": "code",
   "execution_count": 13,
   "metadata": {},
   "outputs": [
    {
     "name": "stdout",
     "output_type": "stream",
     "text": [
      "[-0.15520161 -0.04409049  0.06702062  0.17813173  0.28924284  0.40035395\n",
      "  0.51146506  0.62257617  0.73368728  0.84479839]\n"
     ]
    }
   ],
   "source": [
    "n = data.shape[0]\n",
    "m = 10\n",
    "x = data[['BTC price(USD)']].values.flatten()[0:n]\n",
    "y = data[['DASH price(USD)']].values.flatten()[0:n]\n",
    "p = np.linspace(data[['BTC price(USD)']].min(), data[['BTC price(USD)']].max(), m)\n",
    "print(p)"
   ]
  },
  {
   "cell_type": "markdown",
   "metadata": {},
   "source": [
    "## Read and display edited stan code\n"
   ]
  },
  {
   "cell_type": "code",
   "execution_count": 26,
   "metadata": {},
   "outputs": [
    {
     "name": "stdout",
     "output_type": "stream",
     "text": [
      "data {\n",
      "\tint<lower=0> N;\t// number of data points\n",
      "\tint<lower=0> M;\t// number of prediction points\n",
      "\tvector[N] x;\t// Coin 1\n",
      "\tvector[N] y;\t// Coin 2\n",
      "\tvector[M] xpreds;\t// Coin 1 hypothetical future prices\n",
      "}\n",
      "parameters {\n",
      "\treal alpha;\n",
      "\treal beta;\n",
      "\treal sigma;\n",
      "}\n",
      "transformed parameters {\n",
      "  vector[N] mu;\n",
      "  mu = alpha + beta*x;\n",
      "}\n",
      "model {\n",
      "\tbeta ~ normal(0, 1);\n",
      "\ty ~ normal(mu, sigma);\n",
      "}\n",
      "generated quantities {\n",
      "\tvector[M] ypreds; // Predictions based on hypothetical future prices of coin 1\n",
      "\tvector[N] log_lik;\n",
      "\tfor(i in 1:M) {\n",
      "\t\typreds[i] = normal_rng(alpha + beta*xpreds[i], sigma);\n",
      "\t}\n",
      "\tfor (i in 1:N){\n",
      "        log_lik[i] = normal_lpdf(y[i] | mu[i], sigma);\n",
      "\t}\n",
      "}\n",
      "\n"
     ]
    }
   ],
   "source": [
    "with open('lin_ex2.stan') as file:\n",
    "    print(file.read())"
   ]
  },
  {
   "cell_type": "markdown",
   "metadata": {},
   "source": [
    "## Generate model"
   ]
  },
  {
   "cell_type": "code",
   "execution_count": 27,
   "metadata": {},
   "outputs": [
    {
     "name": "stderr",
     "output_type": "stream",
     "text": [
      "INFO:pystan:COMPILING THE C++ CODE FOR MODEL anon_model_08de8c42a0d22883a72835435b7fe372 NOW.\n",
      "/usr/local/lib/python3.6/dist-packages/Cython/Compiler/Main.py:367: FutureWarning: Cython directive 'language_level' not set, using 2 for now (Py2). This will change in a later release! File: /tmp/tmpt546nijj/stanfit4anon_model_08de8c42a0d22883a72835435b7fe372_5130244144444941308.pyx\n",
      "  tree = Parsing.p_module(s, pxd, full_module_name)\n"
     ]
    }
   ],
   "source": [
    "model = stan_utility.compile_model('lin_ex2.stan')"
   ]
  },
  {
   "cell_type": "markdown",
   "metadata": {},
   "source": [
    "## Set model data"
   ]
  },
  {
   "cell_type": "code",
   "execution_count": 28,
   "metadata": {},
   "outputs": [
    {
     "name": "stdout",
     "output_type": "stream",
     "text": [
      "OrderedDict([('alpha', array([-0.00305533, -0.00280249,  0.00305672, ...,  0.00027997,\n",
      "       -0.00089416, -0.0007348 ])), ('beta', array([1.13298267, 1.1285385 , 1.13484622, ..., 1.12834493, 1.16216185,\n",
      "       1.13560207])), ('sigma', array([0.08820144, 0.08983558, 0.08446053, ..., 0.09119866, 0.08888467,\n",
      "       0.0876889 ])), ('mu', array([[-0.17822234, -0.17831022, -0.17837613, ..., -0.11227113,\n",
      "        -0.11694322, -0.11834192],\n",
      "       [-0.1772824 , -0.17736993, -0.17743558, ..., -0.11158988,\n",
      "        -0.11624365, -0.11763686],\n",
      "       [-0.1723984 , -0.17248642, -0.17255244, ..., -0.10633871,\n",
      "        -0.11101849, -0.11241949],\n",
      "       ...,\n",
      "       [-0.17417001, -0.17425753, -0.17432317, ..., -0.10848876,\n",
      "        -0.11314173, -0.1145347 ],\n",
      "       [-0.18057248, -0.18066262, -0.18073022, ..., -0.11292274,\n",
      "        -0.11771516, -0.11914988],\n",
      "       [-0.17630679, -0.17639487, -0.17646093, ..., -0.1102031 ,\n",
      "        -0.114886  , -0.11628793]])), ('ypreds', array([[-1.66898678e-01,  1.29439020e-01,  8.30011890e-02, ...,\n",
      "         6.91475609e-01,  7.96604233e-01,  1.03231283e+00],\n",
      "       [-5.18430841e-02, -4.78378968e-02,  5.09209899e-02, ...,\n",
      "         6.09016854e-01,  9.04136367e-01,  9.07557827e-01],\n",
      "       [ 6.67554909e-04, -1.42046207e-01, -3.36078658e-02, ...,\n",
      "         6.82508951e-01,  8.72558698e-01,  1.10355764e+00],\n",
      "       ...,\n",
      "       [-1.34554256e-01, -1.63297695e-02,  9.14306272e-02, ...,\n",
      "         6.31198015e-01,  8.53970134e-01,  7.01654611e-01],\n",
      "       [-1.14903332e-01,  1.22464919e-01, -2.61254140e-02, ...,\n",
      "         6.75562979e-01,  8.40394028e-01,  1.04945098e+00],\n",
      "       [-1.55387222e-01,  6.83726819e-02, -4.15175670e-02, ...,\n",
      "         7.19278135e-01,  8.26619489e-01,  1.07291398e+00]])), ('log_lik', array([[1.37075321, 1.37311126, 1.37129819, ..., 1.0694487 , 1.25636572,\n",
      "        1.18325043],\n",
      "       [1.35192593, 1.35424319, 1.35245837, ..., 1.07389716, 1.25252869,\n",
      "        1.18283342],\n",
      "       [1.3612891 , 1.36418578, 1.36195992, ..., 1.13929243, 1.3264431 ,\n",
      "        1.25374096],\n",
      "       ...,\n",
      "       [1.32268653, 1.32508337, 1.32323701, ..., 1.10121741, 1.26709201,\n",
      "        1.20263222],\n",
      "       [1.3786131 , 1.38082946, 1.37914457, ..., 1.06161765, 1.24635532,\n",
      "        1.17320155],\n",
      "       [1.36315759, 1.36564343, 1.36373396, ..., 1.09208925, 1.2757344 ,\n",
      "        1.20400528]])), ('lp__', array([1650.05716289, 1649.93970546, 1648.35445458, ..., 1649.68130391,\n",
      "       1648.23414226, 1650.42965846]))])\n"
     ]
    }
   ],
   "source": [
    "data1 = dict(\n",
    "    N=n,\n",
    "    M=m,\n",
    "    x=x,\n",
    "    y=y,\n",
    "    xpreds=p\n",
    ")\n",
    "fit1 = model.sampling(data=data1, seed=74749)\n",
    "samples1 = fit1.extract(permuted=True)\n",
    "print(samples1)"
   ]
  },
  {
   "cell_type": "code",
   "execution_count": 29,
   "metadata": {},
   "outputs": [
    {
     "name": "stdout",
     "output_type": "stream",
     "text": [
      "(4000,)\n"
     ]
    },
    {
     "data": {
      "image/png": "[encoded data removed]",
      "text/plain": [
       "<Figure size 864x504 with 1 Axes>"
      ]
     },
     "metadata": {
      "needs_background": "light"
     },
     "output_type": "display_data"
    }
   ],
   "source": [
    "preds = samples1['ypreds'].T\n",
    "print(preds[0].shape)\n",
    "f, ax = plt.subplots(1, 1, figsize=(12,7), sharex=True)\n",
    "ax.scatter(data['BTC price(USD)'], data['DASH price(USD)'], label='Price DASH/BTC')\n",
    "ax.set_ylabel('DASH price(USD)')\n",
    "ax.set_xlabel('BTC price(USD)')\n",
    "for i in range(m):\n",
    "    ax.scatter([p[i]]*len(preds[i]),preds[i], alpha=0.01, c='g')\n",
    "    ax.scatter(p[i],np.mean(preds[i]), c='r')\n",
    "plt.legend(loc='best')\n",
    "plt.show()"
   ]
  },
  {
   "cell_type": "markdown",
   "metadata": {},
   "source": [
    "## Compare to plots in exersice description"
   ]
  },
  {
   "cell_type": "code",
   "execution_count": 30,
   "metadata": {},
   "outputs": [
    {
     "data": {
      "image/png": "[encoded data removed]",
      "text/plain": [
       "<Figure size 720x576 with 1 Axes>"
      ]
     },
     "metadata": {
      "needs_background": "light"
     },
     "output_type": "display_data"
    }
   ],
   "source": [
    "# plot beat histogram\n",
    "fig, ax = plt.subplots(1, 1, figsize=(10,8))\n",
    "\n",
    "# plot post pred histogram\n",
    "ax.set_xlabel('ypred')\n",
    "ax.set_ylabel('')\n",
    "ax.set_yticks([])\n",
    "ax.set_xticks(np.linspace(-0.5, 0.2, 10))\n",
    "ax.grid(axis='x')\n",
    "s = pd.Series(preds[0])\n",
    "ax.hist(s, bins=50)\n",
    "plt.show()\n"
   ]
  },
  {
   "cell_type": "code",
   "execution_count": 34,
   "metadata": {},
   "outputs": [],
   "source": [
    "from psis import psisloo"
   ]
  },
  {
   "cell_type": "code",
   "execution_count": 35,
   "metadata": {},
   "outputs": [
    {
     "name": "stdout",
     "output_type": "stream",
     "text": [
      "Loo: 861.2062232955811\n"
     ]
    }
   ],
   "source": [
    "loglik = samples1['log_lik']\n",
    "loo1, loos, ks = psisloo(loglik)\n",
    "print(\"Loo: {}\".format(loo1))"
   ]
  },
  {
   "cell_type": "code",
   "execution_count": 38,
   "metadata": {},
   "outputs": [
    {
     "data": {
      "text/html": [
       "<div>\n",
       "<style scoped>\n",
       "    .dataframe tbody tr th:only-of-type {\n",
       "        vertical-align: middle;\n",
       "    }\n",
       "\n",
       "    .dataframe tbody tr th {\n",
       "        vertical-align: top;\n",
       "    }\n",
       "\n",
       "    .dataframe thead th {\n",
       "        text-align: right;\n",
       "    }\n",
       "</style>\n",
       "<table border=\"1\" class=\"dataframe\">\n",
       "  <thead>\n",
       "    <tr style=\"text-align: right;\">\n",
       "      <th></th>\n",
       "      <th>k&lt;=0.5</th>\n",
       "      <th>0.5&lt;k&lt;=0.7</th>\n",
       "      <th>0.7&lt;k</th>\n",
       "    </tr>\n",
       "  </thead>\n",
       "  <tbody>\n",
       "    <tr>\n",
       "      <th>0</th>\n",
       "      <td>856</td>\n",
       "      <td>0</td>\n",
       "      <td>0</td>\n",
       "    </tr>\n",
       "  </tbody>\n",
       "</table>\n",
       "</div>"
      ],
      "text/plain": [
       "   k<=0.5  0.5<k<=0.7  0.7<k\n",
       "0     856           0      0"
      ]
     },
     "execution_count": 38,
     "metadata": {},
     "output_type": "execute_result"
    }
   ],
   "source": [
    "ks1 = [[\n",
    "(ks <= 0.5).sum(),\n",
    "sum([1 for k in ks if k > 0.5 and k <= 0.7]),\n",
    "(ks > 0.7).sum()]]\n",
    "pd.DataFrame(ks1,\n",
    "columns=[\"k<=0.5\",\"0.5<k<=0.7\",\"0.7<k\"])"
   ]
  },
  {
   "cell_type": "code",
   "execution_count": 44,
   "metadata": {},
   "outputs": [
    {
     "name": "stdout",
     "output_type": "stream",
     "text": [
      "(4000, 856)\n",
      "3.963897397219739\n"
     ]
    }
   ],
   "source": [
    "S = np.size(loglik, 0)\n",
    "lppd = sum(np.log([1/S*sum(np.exp(col)) for col in loglik.T]))\n",
    "p_loocv = lppd - loo1\n",
    "print(p_loocv)"
   ]
  },
  {
   "cell_type": "code",
   "execution_count": null,
   "metadata": {},
   "outputs": [],
   "source": []
  }
 ],
 "metadata": {
  "kernelspec": {
   "display_name": "Python 3",
   "language": "python",
   "name": "python3"
  },
  "language_info": {
   "codemirror_mode": {
    "name": "ipython",
    "version": 3
   },
   "file_extension": ".py",
   "mimetype": "text/x-python",
   "name": "python",
   "nbconvert_exporter": "python",
   "pygments_lexer": "ipython3",
   "version": "3.6.7"
  }
 },
 "nbformat": 4,
 "nbformat_minor": 2
}
