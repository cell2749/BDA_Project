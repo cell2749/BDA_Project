{
 "cells": [
  {
   "cell_type": "markdown",
   "metadata": {},
   "source": [
    "# BDA Project"
   ]
  },
  {
   "cell_type": "markdown",
   "metadata": {
    "collapsed": true
   },
   "source": [
    "# Table of contents\n",
    "1. [Abstarct](#abstract)\n",
    "2. [Introduction](#introduction)\n",
    "3. [Data analysis](#analysis)\n",
    "4. [Methodology](#methodology)\n",
    "5. [Results](#results)\n",
    "6. [Discussion and Conclusions](#conclusions)\n",
    "7. [References](#references)\n",
    "8. [Appendix](#appendix)\n"
   ]
  },
  {
   "cell_type": "markdown",
   "metadata": {},
   "source": [
    "## Abstract <a name=\"abstract\"></a>\n",
    "\n"
   ]
  },
  {
   "cell_type": "markdown",
   "metadata": {},
   "source": [
    "## Introduction <a name=\"introduction\"></a>\n",
    "\n"
   ]
  },
  {
   "cell_type": "markdown",
   "metadata": {},
   "source": [
    "## Data analysis <a name=\"analysis\"></a>\n",
    "\n",
    "### Selected data\n",
    "Coin data compiled by Coin Metrics(ref) from coinmarketcap.com. The complete data set has 21400 data points.\n",
    "\n",
    "* Bitcoin (BTC)\n",
    "* Ethereum (ETH)\n",
    "* Litecoin (LTC)\n",
    "* Dash (DASH)\n",
    "* Ethereum Classic (ETC)\n",
    "\n",
    "#### Features\n",
    "* Market cap (USD)\n",
    "* Price (USD)\n",
    "* Exchange volume (USD)\n",
    "* Fees\n",
    "* Transaction volume\n",
    "\n",
    "#### Time period\n",
    "Limiting the time frame of the data to between the 24th July 2016 and 26th November 2018, gives us a full data set, which means that there isn't any missing data, which should make the preprocessing of the data easier.\n",
    "\n"
   ]
  },
  {
   "cell_type": "markdown",
   "metadata": {},
   "source": [
    "## Methodology <a name=\"methodology\"></a>\n",
    "\n"
   ]
  },
  {
   "cell_type": "markdown",
   "metadata": {},
   "source": [
    "## Results <a name=\"results\"></a>\n",
    "\n"
   ]
  },
  {
   "cell_type": "markdown",
   "metadata": {},
   "source": [
    "## Discussion and Conclusions <a name=\"conclusions\"></a>\n",
    "\n"
   ]
  },
  {
   "cell_type": "markdown",
   "metadata": {},
   "source": [
    "## References <a name=\"references\"></a>\n",
    "* Coin Metrics, Data downloads. URL https://coinmetrics.io/data-downloads/ . (Online; accessed 27 November 2018)\n"
   ]
  },
  {
   "cell_type": "markdown",
   "metadata": {},
   "source": [
    "## Appendix <a name=\"appendix\"></a>"
   ]
  },
  {
   "cell_type": "code",
   "execution_count": null,
   "metadata": {},
   "outputs": [],
   "source": []
  }
 ],
 "metadata": {
  "kernelspec": {
   "display_name": "Python 3",
   "language": "python",
   "name": "python3"
  },
  "language_info": {
   "codemirror_mode": {
    "name": "ipython",
    "version": 3
   },
   "file_extension": ".py",
   "mimetype": "text/x-python",
   "name": "python",
   "nbconvert_exporter": "python",
   "pygments_lexer": "ipython3",
   "version": "3.6.7"
  }
 },
 "nbformat": 4,
 "nbformat_minor": 1
}
